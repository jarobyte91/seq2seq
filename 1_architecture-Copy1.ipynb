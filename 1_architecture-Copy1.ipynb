{
 "cells": [
  {
   "cell_type": "code",
   "execution_count": 1,
   "metadata": {},
   "outputs": [],
   "source": [
    "import torch\n",
    "import torch.utils.data as tud\n",
    "import torch.nn as nn\n",
    "from seq2seq import Seq2SeqEmbeddingsConcatFullTeacherForcing, Seq2Seq\n",
    "import pickle\n",
    "from tqdm.notebook import tqdm"
   ]
  },
  {
   "cell_type": "code",
   "execution_count": 2,
   "metadata": {},
   "outputs": [],
   "source": [
    "folder = \"/home/jarobyte/scratch/inaoe/nsp/\""
   ]
  },
  {
   "cell_type": "code",
   "execution_count": 3,
   "metadata": {},
   "outputs": [
    {
     "data": {
      "text/plain": [
       "device(type='cuda')"
      ]
     },
     "execution_count": 3,
     "metadata": {},
     "output_type": "execute_result"
    }
   ],
   "source": [
    "device = torch.device(\"cuda\" if torch.cuda.is_available() else \"cpu\")\n",
    "device"
   ]
  },
  {
   "cell_type": "code",
   "execution_count": 4,
   "metadata": {},
   "outputs": [],
   "source": [
    "chars_vocab = pickle.load(open(folder + \"chars.vocab\", \"rb\"))\n",
    "words_vocab = pickle.load(open(folder + \"words.vocab\", \"rb\"))"
   ]
  },
  {
   "cell_type": "markdown",
   "metadata": {},
   "source": [
    "# model"
   ]
  },
  {
   "cell_type": "code",
   "execution_count": 5,
   "metadata": {},
   "outputs": [
    {
     "data": {
      "text/plain": [
       "torch.Size([4499, 130])"
      ]
     },
     "execution_count": 5,
     "metadata": {},
     "output_type": "execute_result"
    }
   ],
   "source": [
    "source = torch.load(folder + \"char/source_train.pt\").to(device)\n",
    "source.shape"
   ]
  },
  {
   "cell_type": "code",
   "execution_count": 6,
   "metadata": {},
   "outputs": [
    {
     "data": {
      "text/plain": [
       "tensor(273719, device='cuda:0')"
      ]
     },
     "execution_count": 6,
     "metadata": {},
     "output_type": "execute_result"
    }
   ],
   "source": [
    "(source != 0).sum()"
   ]
  },
  {
   "cell_type": "code",
   "execution_count": 7,
   "metadata": {},
   "outputs": [
    {
     "data": {
      "text/plain": [
       "torch.Size([4499, 130])"
      ]
     },
     "execution_count": 7,
     "metadata": {},
     "output_type": "execute_result"
    }
   ],
   "source": [
    "target = torch.load(folder + \"char/target_train.pt\").to(device)\n",
    "target.shape"
   ]
  },
  {
   "cell_type": "code",
   "execution_count": 8,
   "metadata": {},
   "outputs": [
    {
     "data": {
      "text/plain": [
       "tensor(288726, device='cuda:0')"
      ]
     },
     "execution_count": 8,
     "metadata": {},
     "output_type": "execute_result"
    }
   ],
   "source": [
    "(target != 0).sum()"
   ]
  },
  {
   "cell_type": "code",
   "execution_count": 9,
   "metadata": {},
   "outputs": [
    {
     "name": "stdout",
     "output_type": "stream",
     "text": [
      "4499\n",
      "4000\n",
      "499\n"
     ]
    }
   ],
   "source": [
    "dataset = tud.TensorDataset(source, target)\n",
    "print(len(dataset))\n",
    "train, dev = tud.random_split(dataset, [4000, 499])\n",
    "print(len(train))\n",
    "print(len(dev))"
   ]
  },
  {
   "cell_type": "code",
   "execution_count": 10,
   "metadata": {},
   "outputs": [
    {
     "data": {
      "text/plain": [
       "tensor(255828, device='cuda:0')"
      ]
     },
     "execution_count": 10,
     "metadata": {},
     "output_type": "execute_result"
    }
   ],
   "source": [
    "(train.dataset.tensors[1][train.indices] != 0).sum()"
   ]
  },
  {
   "cell_type": "code",
   "execution_count": 11,
   "metadata": {},
   "outputs": [
    {
     "data": {
      "text/plain": [
       "tensor(0.4920, device='cuda:0')"
      ]
     },
     "execution_count": 11,
     "metadata": {},
     "output_type": "execute_result"
    }
   ],
   "source": [
    "(train.dataset.tensors[1][train.indices] != 0).float().mean()"
   ]
  },
  {
   "cell_type": "code",
   "execution_count": 12,
   "metadata": {},
   "outputs": [
    {
     "data": {
      "text/plain": [
       "tensor(32898, device='cuda:0')"
      ]
     },
     "execution_count": 12,
     "metadata": {},
     "output_type": "execute_result"
    }
   ],
   "source": [
    "(dev.dataset.tensors[1][dev.indices] != 0).sum()"
   ]
  },
  {
   "cell_type": "code",
   "execution_count": 13,
   "metadata": {},
   "outputs": [
    {
     "data": {
      "text/plain": [
       "tensor(0.5071, device='cuda:0')"
      ]
     },
     "execution_count": 13,
     "metadata": {},
     "output_type": "execute_result"
    }
   ],
   "source": [
    "(dev.dataset.tensors[1][dev.indices] != 0).float().mean()"
   ]
  },
  {
   "cell_type": "code",
   "execution_count": 25,
   "metadata": {},
   "outputs": [
    {
     "name": "stdout",
     "output_type": "stream",
     "text": [
      "This net has 410,150 parameters.\n",
      "Training process:\n",
      "epoch | train loss | train accuracy | dev accuracy | non-pad train accuracy | non-pad dev accuracy\n"
     ]
    },
    {
     "data": {
      "application/vnd.jupyter.widget-view+json": {
       "model_id": "6919e859266f403399f1261e25ba8cf6",
       "version_major": 2,
       "version_minor": 0
      },
      "text/plain": [
       "HBox(children=(HTML(value=''), FloatProgress(value=0.0, max=2001.0), HTML(value='')))"
      ]
     },
     "metadata": {},
     "output_type": "display_data"
    },
    {
     "name": "stdout",
     "output_type": "stream",
     "text": [
      "    0    3.101           51.20           49.67              0.00                    0.00           \n",
      "  200    0.882           73.93           72.70             46.58                   45.75           \n",
      "  400    0.745           78.21           76.72             55.34                   53.75           \n",
      "  600    0.682           80.33           78.38             59.70                   57.04           \n",
      "  800    0.641           81.89           79.57             62.89                   59.41           \n",
      " 1000    0.601           83.30           80.40             65.79                   61.06           \n",
      " 1200    0.577           84.30           80.83             67.83                   61.91           \n",
      " 1400    0.555           85.09           81.08             69.45                   62.42           \n",
      " 1600    0.531           85.85           81.36             71.01                   62.96           \n",
      " 1800    0.516           86.46           81.42             72.26                   63.08           \n",
      " 2000    0.500           86.98           81.40             73.31                   63.05           \n",
      "\n"
     ]
    }
   ],
   "source": [
    "train_loader = tud.DataLoader(train, batch_size = 2000, shuffle = True)\n",
    "dev_loader = tud.DataLoader(dev, batch_size = 500)\n",
    "torch.cuda.empty_cache()\n",
    "\n",
    "encoder_embedding_dim = 128\n",
    "decoder_embedding_dim = 128\n",
    "encoder_hidden_dim = 128\n",
    "decoder_hidden_dim = 128\n",
    "encoder_layers = 1\n",
    "decoder_layers = 1\n",
    "epochs = 2000\n",
    "lr = 0.001\n",
    "weight_decay = 0.00\n",
    "dropout = 0.5\n",
    "    \n",
    "    \n",
    "net = Seq2SeqEmbeddingsConcatFullTeacherForcing(chars_vocab[\"char2i\"], chars_vocab[\"char2i\"], \n",
    "                                                encoder_embedding_dim, decoder_embedding_dim, \n",
    "                                                encoder_hidden_dim, encoder_layers, \n",
    "                                                decoder_hidden_dim, decoder_layers,\n",
    "                                                dropout)\n",
    "net.to(device)\n",
    "\n",
    "losses, train_accuracies, dev_accuracies = net.fit(train_loader, dev_loader, epochs, lr, weight_decay)"
   ]
  },
  {
   "cell_type": "code",
   "execution_count": 26,
   "metadata": {},
   "outputs": [
    {
     "data": {
      "text/plain": [
       "(78.8983606557377, 61.39751087119508)"
      ]
     },
     "execution_count": 26,
     "metadata": {},
     "output_type": "execute_result"
    }
   ],
   "source": [
    "source_test = torch.load(folder + \"char/source_test.pt\").to(device)\n",
    "source_test.shape\n",
    "\n",
    "target_test = torch.load(folder + \"char/target_test.pt\").to(device)\n",
    "target_test.shape\n",
    "\n",
    "test_loader = tud.DataLoader(tud.TensorDataset(source_test, target_test), batch_size = 500)\n",
    "\n",
    "net.compute_accuracy(test_loader)"
   ]
  },
  {
   "cell_type": "code",
   "execution_count": 27,
   "metadata": {},
   "outputs": [
    {
     "name": "stdout",
     "output_type": "stream",
     "text": [
      "torch.Size([7, 9])\n"
     ]
    },
    {
     "data": {
      "text/plain": [
       "['<START>talles-de-la-construcción-de-las-desarrollo-de-la-sociedad-de-madrid<END>',\n",
       " '<START>además-de-la-respigunación-descubresores-descubres-descubradoras<END>',\n",
       " '<START>todo-de-la-respincultad-de-constitución-mundo-de-la-mundo<END>',\n",
       " '<START>talles-de-la-construcción-de-las-desarrollo-de-la-sociedad-de-madrid<END>',\n",
       " '<START>además-de-la-respigunación-descubresores-descubres-descubradoras<END>',\n",
       " '<START>todo-de-la-respincultad-de-constitución-mundo-de-la-mundo<END>',\n",
       " '<START>talles-de-la-construcción-de-las-desarrollo-de-la-sociedad-de-madrid<END>',\n",
       " '<START>además-de-la-respigunación-descubresores-descubres-descubradoras<END>',\n",
       " '<START>todo-de-la-respincultad-de-constitución-mundo-de-la-mundo<END>']"
      ]
     },
     "execution_count": 27,
     "metadata": {},
     "output_type": "execute_result"
    }
   ],
   "source": [
    "net.eval()\n",
    "text = [\"hola\", \"adios\", \"juan\"] * 3\n",
    "text = [torch.tensor([1] + [chars_vocab[\"char2i\"][c] for c in s] + [2]) for s in text]\n",
    "text = nn.utils.rnn.pad_sequence(text).to(device)\n",
    "print(text.shape)\n",
    "inference = net.inference(text)\n",
    "[\"\".join([chars_vocab[\"i2char\"][i] for i in s]).replace(\"<PAD>\", \"\").replace(\" \", \"-\") \n",
    " for s in inference.T.tolist()]"
   ]
  },
  {
   "cell_type": "code",
   "execution_count": 28,
   "metadata": {},
   "outputs": [
    {
     "data": {
      "text/plain": [
       "['<START>in-ther-gatalalatical-of-here<END>',\n",
       " '<START>the-lasi-the-megico-pari-munbo<END>',\n",
       " '<START>isin-embargo-notehiseon-a-qestianol-importanty<END>',\n",
       " '<START>is-thi-racually-lone-o-auropea<END>',\n",
       " \"<START>monten-imental-alphormas-unless-yo're-in-mexico<END>\",\n",
       " '<START>certificalteteo-mas-in-casoliclosposea<END>',\n",
       " '<START>a-salways-look-as-a-le-liker<END>',\n",
       " '<START>inlamade-relus-casos-simply-imethaphoric-commant<END>',\n",
       " '<START>fonde-te-lenasionis-so-nispalinfrancia-oli-sefe<END>',\n",
       " '<START>instita-tonational-the-statistic-achegraphia-am-for-matica-in-ahe<END>']"
      ]
     },
     "execution_count": 28,
     "metadata": {},
     "output_type": "execute_result"
    }
   ],
   "source": [
    "text = source[:10]\n",
    "[\"\".join([chars_vocab[\"i2char\"][i] for i in s]).replace(\"<PAD>\", \"\").replace(\" \", \"-\") for s in text.tolist()]"
   ]
  },
  {
   "cell_type": "code",
   "execution_count": 29,
   "metadata": {},
   "outputs": [
    {
     "data": {
      "text/plain": [
       "['<START>en-el-caso-de-la-psicología<END>',\n",
       " '<START>de-la-ciudad-de-méxico-para-el-mundo<END>',\n",
       " '<START>y-sin-embargo-no-deja-de-ser-una-cuestión-muy-importante<END>',\n",
       " '<START>el-derecho-de-la-unión-europea<END>',\n",
       " '<START>mantenimiento-de-alfombras-en-la-ciudad-de-méxico<END>',\n",
       " '<START>certificados-de-idiomas-en-caso-de-que-los-posea<END>',\n",
       " '<START>eso-es-lo-que-se-refleja<END>',\n",
       " '<START>en-la-mayoría-de-los-casos-se-emplea-metafóricamente<END>',\n",
       " '<START>fondo-de-las-naciones-unidas-para-la-infancia-unicef<END>',\n",
       " '<START>instituto-nacional-de-estadística-geografía-e-informática-inegi<END>']"
      ]
     },
     "execution_count": 29,
     "metadata": {},
     "output_type": "execute_result"
    }
   ],
   "source": [
    "text = target[:10]\n",
    "[\"\".join([chars_vocab[\"i2char\"][i] for i in s]).replace(\"<PAD>\", \"\").replace(\" \", \"-\") for s in text.tolist()]"
   ]
  },
  {
   "cell_type": "code",
   "execution_count": 30,
   "metadata": {},
   "outputs": [
    {
     "data": {
      "text/plain": [
       "['<START>en-el-caso-de-la-calidad-de-calificación<END>',\n",
       " '<START>de-la-condición-de-méxico-de-méxico<END>',\n",
       " '<START>es-el-medio-asignar-el-estado-de-mismo-no-se-encuentra-en-este-estado<END>',\n",
       " '<START>es-la-producción-de-la-unión<END>',\n",
       " '<START>mundo-de-la-mesa-de-la-mesa-de-la-comunidad-mexicana<END>',\n",
       " '<START>características-de-los-consumos-de-persona<END>',\n",
       " '<START>es-la-sociedad-de-la-seguridad<END>',\n",
       " '<START>en-la-mesa-de-los-casos-de-la-comprema-de-manancia<END>',\n",
       " '<START>por-las-necesidades-de-la-participación-de-la-asista<END>',\n",
       " '<START>instituto-de-la-comisión-de-la-información-de-la-cambiante<END>']"
      ]
     },
     "execution_count": 30,
     "metadata": {},
     "output_type": "execute_result"
    }
   ],
   "source": [
    "net.eval()\n",
    "text = source[:10].T\n",
    "inference = net.inference(text)\n",
    "[\"\".join([chars_vocab[\"i2char\"][i] for i in s]).replace(\"<PAD>\", \"\").replace(\" \", \"-\") \n",
    " for s in inference.T.tolist()]"
   ]
  },
  {
   "cell_type": "code",
   "execution_count": null,
   "metadata": {},
   "outputs": [],
   "source": []
  },
  {
   "cell_type": "code",
   "execution_count": null,
   "metadata": {},
   "outputs": [],
   "source": []
  }
 ],
 "metadata": {
  "kernelspec": {
   "display_name": "Python 3",
   "language": "python",
   "name": "python3"
  },
  "language_info": {
   "codemirror_mode": {
    "name": "ipython",
    "version": 3
   },
   "file_extension": ".py",
   "mimetype": "text/x-python",
   "name": "python",
   "nbconvert_exporter": "python",
   "pygments_lexer": "ipython3",
   "version": "3.7.4"
  }
 },
 "nbformat": 4,
 "nbformat_minor": 4
}
