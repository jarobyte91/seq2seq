{
 "cells": [
  {
   "cell_type": "code",
   "execution_count": 1,
   "metadata": {},
   "outputs": [],
   "source": [
    "import pandas as pd\n",
    "import torch\n",
    "import torch.utils.data as tud\n",
    "import torch.nn as nn\n",
    "import pickle\n",
    "from tqdm.notebook import tqdm\n",
    "import numpy as np\n",
    "import seaborn as sns\n",
    "sns.set()"
   ]
  },
  {
   "cell_type": "code",
   "execution_count": 2,
   "metadata": {},
   "outputs": [],
   "source": [
    "folder = \"/home/jarobyte/scratch/inaoe/\""
   ]
  },
  {
   "cell_type": "markdown",
   "metadata": {},
   "source": [
    "# train data"
   ]
  },
  {
   "cell_type": "code",
   "execution_count": 3,
   "metadata": {},
   "outputs": [
    {
     "name": "stdout",
     "output_type": "stream",
     "text": [
      "4499\n"
     ]
    },
    {
     "data": {
      "text/plain": [
       "['DXCL_M_001_I_001 in ther gatalalatical of here\\n',\n",
       " 'DXCL_M_001_I_002 the lasi the megico pari munbo\\n',\n",
       " 'DXCL_M_001_I_003 isin embargo notehiseon a qestianol importanty\\n',\n",
       " 'DXCL_M_001_I_004 is thi racually lone o auropea\\n',\n",
       " \"DXCL_M_001_I_005 monten imental alphormas unless yo're in mexico\\n\"]"
      ]
     },
     "execution_count": 3,
     "metadata": {},
     "output_type": "execute_result"
    }
   ],
   "source": [
    "with open(folder + \"EXPLANATION/Expe_NSP/Train_NSP_ANGLO.trans\") as file:\n",
    "    source_train = file.readlines()\n",
    "print(len(source_train))\n",
    "source_train[:5]"
   ]
  },
  {
   "cell_type": "code",
   "execution_count": 4,
   "metadata": {},
   "outputs": [
    {
     "name": "stdout",
     "output_type": "stream",
     "text": [
      "4499\n"
     ]
    },
    {
     "data": {
      "text/plain": [
       "['DXCL_M_001_I_001 en el caso de la psicología\\n',\n",
       " 'DXCL_M_001_I_002 de la ciudad de méxico para el mundo\\n',\n",
       " 'DXCL_M_001_I_003 y sin embargo no deja de ser una cuestión muy importante\\n',\n",
       " 'DXCL_M_001_I_004 el derecho de la unión europea\\n',\n",
       " 'DXCL_M_001_I_005 mantenimiento de alfombras en la ciudad de méxico\\n']"
      ]
     },
     "execution_count": 4,
     "metadata": {},
     "output_type": "execute_result"
    }
   ],
   "source": [
    "with open(folder + \"EXPLANATION/Expe_NSP/Train_NSP_ORG.trans\") as file:\n",
    "    target_train = file.readlines()\n",
    "print(len(target_train))\n",
    "target_train[:5]"
   ]
  },
  {
   "cell_type": "markdown",
   "metadata": {},
   "source": [
    "# test data"
   ]
  },
  {
   "cell_type": "code",
   "execution_count": 5,
   "metadata": {},
   "outputs": [
    {
     "name": "stdout",
     "output_type": "stream",
     "text": [
      "500\n"
     ]
    },
    {
     "data": {
      "text/plain": [
       "['DXCL_M_089_I_001 this tangular i minsione politic a altiar aser\\n',\n",
       " 'DXCL_M_089_I_002 member of the grouro puning han area and systemas compotationalys\\n',\n",
       " 'DXCL_M_089_I_003 rasonamiento inferencia konlochica deplemenordon\\n',\n",
       " 'DXCL_M_089_I_004 rosenbarin tehas is talls o niedo silima peru\\n',\n",
       " 'DXCL_M_089_I_005 evalrosin the latension melitar fisial lohicas condu tuales elect without conitivea\\n']"
      ]
     },
     "execution_count": 5,
     "metadata": {},
     "output_type": "execute_result"
    }
   ],
   "source": [
    "with open(folder + \"EXPLANATION/Expe_NSP/Test_NSP_ANGLO.trans\") as file:\n",
    "    source_test = file.readlines()\n",
    "print(len(source_test))\n",
    "source_test[:5]"
   ]
  },
  {
   "cell_type": "code",
   "execution_count": 6,
   "metadata": {},
   "outputs": [
    {
     "name": "stdout",
     "output_type": "stream",
     "text": [
      "500\n"
     ]
    },
    {
     "data": {
      "text/plain": [
       "['DXCL_M_089_I_001 distinguir la dimensión política del ser y hacer\\n',\n",
       " 'DXCL_M_089_I_002 miembros del grupo de ingeniería en sistemas computacionales\\n',\n",
       " 'DXCL_M_089_I_003 razonamiento e inferencia con lógica de primer orden\\n',\n",
       " 'DXCL_M_089_I_004 rosenberg en texas estados unidos y lima perú\\n',\n",
       " 'DXCL_M_089_I_005 evaluación de la atención medidas fisiológicas conductuales y de actividad cognitiva\\n']"
      ]
     },
     "execution_count": 6,
     "metadata": {},
     "output_type": "execute_result"
    }
   ],
   "source": [
    "with open(folder + \"EXPLANATION/Expe_NSP/Test_NSP_ORG.trans\") as file:\n",
    "    target_test = file.readlines()\n",
    "print(len(target_test))\n",
    "target_test[:5]"
   ]
  },
  {
   "cell_type": "markdown",
   "metadata": {},
   "source": [
    "# numericalization"
   ]
  },
  {
   "cell_type": "code",
   "execution_count": 7,
   "metadata": {},
   "outputs": [
    {
     "name": "stdout",
     "output_type": "stream",
     "text": [
      "(4499, 2)\n"
     ]
    },
    {
     "data": {
      "text/html": [
       "<div>\n",
       "<style scoped>\n",
       "    .dataframe tbody tr th:only-of-type {\n",
       "        vertical-align: middle;\n",
       "    }\n",
       "\n",
       "    .dataframe tbody tr th {\n",
       "        vertical-align: top;\n",
       "    }\n",
       "\n",
       "    .dataframe thead th {\n",
       "        text-align: right;\n",
       "    }\n",
       "</style>\n",
       "<table border=\"1\" class=\"dataframe\">\n",
       "  <thead>\n",
       "    <tr style=\"text-align: right;\">\n",
       "      <th></th>\n",
       "      <th>source</th>\n",
       "      <th>target</th>\n",
       "    </tr>\n",
       "  </thead>\n",
       "  <tbody>\n",
       "    <tr>\n",
       "      <th>0</th>\n",
       "      <td>in ther gatalalatical of here</td>\n",
       "      <td>en el caso de la psicología</td>\n",
       "    </tr>\n",
       "    <tr>\n",
       "      <th>1</th>\n",
       "      <td>the lasi the megico pari munbo</td>\n",
       "      <td>de la ciudad de méxico para el mundo</td>\n",
       "    </tr>\n",
       "    <tr>\n",
       "      <th>2</th>\n",
       "      <td>isin embargo notehiseon a qestianol importanty</td>\n",
       "      <td>y sin embargo no deja de ser una cuestión muy ...</td>\n",
       "    </tr>\n",
       "    <tr>\n",
       "      <th>3</th>\n",
       "      <td>is thi racually lone o auropea</td>\n",
       "      <td>el derecho de la unión europea</td>\n",
       "    </tr>\n",
       "    <tr>\n",
       "      <th>4</th>\n",
       "      <td>monten imental alphormas unless yo're in mexico</td>\n",
       "      <td>mantenimiento de alfombras en la ciudad de méxico</td>\n",
       "    </tr>\n",
       "  </tbody>\n",
       "</table>\n",
       "</div>"
      ],
      "text/plain": [
       "                                            source  \\\n",
       "0                    in ther gatalalatical of here   \n",
       "1                   the lasi the megico pari munbo   \n",
       "2   isin embargo notehiseon a qestianol importanty   \n",
       "3                   is thi racually lone o auropea   \n",
       "4  monten imental alphormas unless yo're in mexico   \n",
       "\n",
       "                                              target  \n",
       "0                        en el caso de la psicología  \n",
       "1               de la ciudad de méxico para el mundo  \n",
       "2  y sin embargo no deja de ser una cuestión muy ...  \n",
       "3                     el derecho de la unión europea  \n",
       "4  mantenimiento de alfombras en la ciudad de méxico  "
      ]
     },
     "execution_count": 7,
     "metadata": {},
     "output_type": "execute_result"
    }
   ],
   "source": [
    "train = pd.DataFrame.from_dict({\"source\":source_train, \"target\":target_train})\\\n",
    ".assign(source = lambda df: df[\"source\"].map(lambda x: x[17:-1]),\n",
    "        target = lambda df: df[\"target\"].map(lambda x: x[17:-1]))\n",
    "\n",
    "print(train.shape)\n",
    "train.head()"
   ]
  },
  {
   "cell_type": "code",
   "execution_count": 8,
   "metadata": {},
   "outputs": [
    {
     "data": {
      "text/plain": [
       "<matplotlib.axes._subplots.AxesSubplot at 0x2af4c24cad90>"
      ]
     },
     "execution_count": 8,
     "metadata": {},
     "output_type": "execute_result"
    },
    {
     "data": {
      "image/png": "[encoded data removed]",
      "text/plain": [
       "<Figure size 432x288 with 1 Axes>"
      ]
     },
     "metadata": {},
     "output_type": "display_data"
    }
   ],
   "source": [
    "train[\"source\"].map(len).plot.hist()"
   ]
  },
  {
   "cell_type": "code",
   "execution_count": 9,
   "metadata": {},
   "outputs": [
    {
     "data": {
      "text/plain": [
       "count    4499.000000\n",
       "mean       58.839964\n",
       "std        18.399915\n",
       "min        16.000000\n",
       "0%         16.000000\n",
       "10%        36.000000\n",
       "20%        42.000000\n",
       "30%        48.000000\n",
       "40%        53.000000\n",
       "50%        58.000000\n",
       "60%        63.000000\n",
       "70%        68.000000\n",
       "80%        75.000000\n",
       "90%        84.000000\n",
       "100%      128.000000\n",
       "max       128.000000\n",
       "Name: source, dtype: float64"
      ]
     },
     "execution_count": 9,
     "metadata": {},
     "output_type": "execute_result"
    }
   ],
   "source": [
    "train[\"source\"].map(len).describe(percentiles = np.linspace(0, 1, 11))"
   ]
  },
  {
   "cell_type": "code",
   "execution_count": 10,
   "metadata": {},
   "outputs": [
    {
     "data": {
      "text/plain": [
       "<matplotlib.axes._subplots.AxesSubplot at 0x2af4c27eaad0>"
      ]
     },
     "execution_count": 10,
     "metadata": {},
     "output_type": "execute_result"
    },
    {
     "data": {
      "image/png": "[encoded data removed]",
      "text/plain": [
       "<Figure size 432x288 with 1 Axes>"
      ]
     },
     "metadata": {},
     "output_type": "display_data"
    }
   ],
   "source": [
    "train[\"target\"].map(lambda x: x.split()).map(len).plot.hist()"
   ]
  },
  {
   "cell_type": "code",
   "execution_count": 11,
   "metadata": {},
   "outputs": [
    {
     "name": "stdout",
     "output_type": "stream",
     "text": [
      "(500, 2)\n"
     ]
    },
    {
     "data": {
      "text/html": [
       "<div>\n",
       "<style scoped>\n",
       "    .dataframe tbody tr th:only-of-type {\n",
       "        vertical-align: middle;\n",
       "    }\n",
       "\n",
       "    .dataframe tbody tr th {\n",
       "        vertical-align: top;\n",
       "    }\n",
       "\n",
       "    .dataframe thead th {\n",
       "        text-align: right;\n",
       "    }\n",
       "</style>\n",
       "<table border=\"1\" class=\"dataframe\">\n",
       "  <thead>\n",
       "    <tr style=\"text-align: right;\">\n",
       "      <th></th>\n",
       "      <th>source</th>\n",
       "      <th>target</th>\n",
       "    </tr>\n",
       "  </thead>\n",
       "  <tbody>\n",
       "    <tr>\n",
       "      <th>0</th>\n",
       "      <td>this tangular i minsione politic a altiar aser</td>\n",
       "      <td>distinguir la dimensión política del ser y hacer</td>\n",
       "    </tr>\n",
       "    <tr>\n",
       "      <th>1</th>\n",
       "      <td>member of the grouro puning han area and syste...</td>\n",
       "      <td>miembros del grupo de ingeniería en sistemas c...</td>\n",
       "    </tr>\n",
       "    <tr>\n",
       "      <th>2</th>\n",
       "      <td>rasonamiento inferencia konlochica deplemenordon</td>\n",
       "      <td>razonamiento e inferencia con lógica de primer...</td>\n",
       "    </tr>\n",
       "    <tr>\n",
       "      <th>3</th>\n",
       "      <td>rosenbarin tehas is talls o niedo silima peru</td>\n",
       "      <td>rosenberg en texas estados unidos y lima perú</td>\n",
       "    </tr>\n",
       "    <tr>\n",
       "      <th>4</th>\n",
       "      <td>evalrosin the latension melitar fisial lohicas...</td>\n",
       "      <td>evaluación de la atención medidas fisiológicas...</td>\n",
       "    </tr>\n",
       "  </tbody>\n",
       "</table>\n",
       "</div>"
      ],
      "text/plain": [
       "                                              source  \\\n",
       "0     this tangular i minsione politic a altiar aser   \n",
       "1  member of the grouro puning han area and syste...   \n",
       "2   rasonamiento inferencia konlochica deplemenordon   \n",
       "3      rosenbarin tehas is talls o niedo silima peru   \n",
       "4  evalrosin the latension melitar fisial lohicas...   \n",
       "\n",
       "                                              target  \n",
       "0   distinguir la dimensión política del ser y hacer  \n",
       "1  miembros del grupo de ingeniería en sistemas c...  \n",
       "2  razonamiento e inferencia con lógica de primer...  \n",
       "3      rosenberg en texas estados unidos y lima perú  \n",
       "4  evaluación de la atención medidas fisiológicas...  "
      ]
     },
     "execution_count": 11,
     "metadata": {},
     "output_type": "execute_result"
    }
   ],
   "source": [
    "test = pd.DataFrame.from_dict({\"source\":source_test, \"target\":target_test})\\\n",
    ".assign(source = lambda df: df[\"source\"].map(lambda x: x[17:-1]),\n",
    "        target = lambda df: df[\"target\"].map(lambda x: x[17:-1]))\n",
    "\n",
    "print(test.shape)\n",
    "test.head()"
   ]
  },
  {
   "cell_type": "code",
   "execution_count": 12,
   "metadata": {},
   "outputs": [
    {
     "data": {
      "text/plain": [
       "<matplotlib.axes._subplots.AxesSubplot at 0x2af4c2bd0e10>"
      ]
     },
     "execution_count": 12,
     "metadata": {},
     "output_type": "execute_result"
    },
    {
     "data": {
      "image/png": "[encoded data removed]",
      "text/plain": [
       "<Figure size 432x288 with 1 Axes>"
      ]
     },
     "metadata": {},
     "output_type": "display_data"
    }
   ],
   "source": [
    "test[\"source\"].map(len).plot.hist()"
   ]
  },
  {
   "cell_type": "code",
   "execution_count": 13,
   "metadata": {},
   "outputs": [
    {
     "data": {
      "text/plain": [
       "<matplotlib.axes._subplots.AxesSubplot at 0x2af4c28cb150>"
      ]
     },
     "execution_count": 13,
     "metadata": {},
     "output_type": "execute_result"
    },
    {
     "data": {
      "image/png": "[encoded data removed]",
      "text/plain": [
       "<Figure size 432x288 with 1 Axes>"
      ]
     },
     "metadata": {},
     "output_type": "display_data"
    }
   ],
   "source": [
    "test[\"target\"].map(lambda x: x.split()).map(len).plot.hist()"
   ]
  },
  {
   "cell_type": "markdown",
   "metadata": {},
   "source": [
    "## vocabularies"
   ]
  },
  {
   "cell_type": "code",
   "execution_count": 14,
   "metadata": {},
   "outputs": [
    {
     "name": "stdout",
     "output_type": "stream",
     "text": [
      "35\n",
      "38\n",
      "38\n"
     ]
    }
   ],
   "source": [
    "chars = set(train[\"source\"].sum()) \\\n",
    "| set(test[\"source\"].sum()) \\\n",
    "| set(train[\"target\"].sum()) \\\n",
    "| set(test[\"target\"].sum())\n",
    "\n",
    "print(len(chars))\n",
    "char2i = {c:i for i, c in enumerate(chars, 3)}\n",
    "char2i[\"<PAD>\"] = 0\n",
    "char2i[\"<START>\"] = 1\n",
    "char2i[\"<END>\"] = 2\n",
    "print(len(char2i))\n",
    "i2char = {i:c for i, c in enumerate(chars, 3)}\n",
    "i2char[0] = \"<PAD>\"\n",
    "i2char[1] = \"<START>\"\n",
    "i2char[2] = \"<END>\"\n",
    "print(len(i2char))"
   ]
  },
  {
   "cell_type": "code",
   "execution_count": 15,
   "metadata": {},
   "outputs": [],
   "source": [
    "chars_vocab = {\"char2i\":char2i, \"i2char\":i2char}"
   ]
  },
  {
   "cell_type": "code",
   "execution_count": 16,
   "metadata": {},
   "outputs": [
    {
     "name": "stdout",
     "output_type": "stream",
     "text": [
      "8787\n",
      "8790\n",
      "8790\n"
     ]
    }
   ],
   "source": [
    "words = set(train[\"target\"].map(lambda x: \" \" + x).sum().split()) \\\n",
    "| set(test[\"target\"].map(lambda x: \" \" + x).sum().split())\n",
    "\n",
    "print(len(words))\n",
    "word2i = {c:i for i, c in enumerate(words, 3)}\n",
    "word2i[\"<PAD>\"] = 0\n",
    "word2i[\"<START>\"] = 1\n",
    "word2i[\"<END>\"] = 2\n",
    "print(len(word2i))\n",
    "i2word = {i:c for i, c in enumerate(words, 3)}\n",
    "i2word[0] = \"<PAD>\"\n",
    "i2word[1] = \"<START>\"\n",
    "i2word[2] = \"<END>\"\n",
    "print(len(i2word))"
   ]
  },
  {
   "cell_type": "code",
   "execution_count": 17,
   "metadata": {},
   "outputs": [],
   "source": [
    "words_vocab = {\"word2i\":word2i, \"i2word\":i2word}"
   ]
  },
  {
   "cell_type": "code",
   "execution_count": 18,
   "metadata": {},
   "outputs": [],
   "source": [
    "pickle.dump(chars_vocab, open(folder + \"nsp/chars.vocab\", \"wb\"))\n",
    "pickle.dump(words_vocab, open(folder + \"nsp/words.vocab\", \"wb\"))"
   ]
  },
  {
   "cell_type": "markdown",
   "metadata": {},
   "source": [
    "## char"
   ]
  },
  {
   "cell_type": "code",
   "execution_count": 47,
   "metadata": {},
   "outputs": [
    {
     "data": {
      "text/plain": [
       "torch.Size([4499, 130])"
      ]
     },
     "execution_count": 47,
     "metadata": {},
     "output_type": "execute_result"
    }
   ],
   "source": [
    "char_source_train = nn.utils.rnn.pad_sequence(train[\"source\"]\\\n",
    "                                              .map(lambda x: [1] + [char2i[c] for c in x] + [2])\\\n",
    "                                              .map(torch.tensor), batch_first = True)\n",
    "char_source_train.shape"
   ]
  },
  {
   "cell_type": "code",
   "execution_count": 48,
   "metadata": {},
   "outputs": [
    {
     "data": {
      "text/plain": [
       "torch.Size([4499, 130])"
      ]
     },
     "execution_count": 48,
     "metadata": {},
     "output_type": "execute_result"
    }
   ],
   "source": [
    "char_target_train = nn.utils.rnn.pad_sequence(train[\"target\"]\\\n",
    "                                              .map(lambda x: [1] + [char2i[c] for c in x] + [2])\\\n",
    "                                              .map(torch.tensor), batch_first = True)\n",
    "char_target_train.shape"
   ]
  },
  {
   "cell_type": "code",
   "execution_count": 49,
   "metadata": {},
   "outputs": [
    {
     "data": {
      "text/plain": [
       "torch.Size([500, 134])"
      ]
     },
     "execution_count": 49,
     "metadata": {},
     "output_type": "execute_result"
    }
   ],
   "source": [
    "char_source_test = nn.utils.rnn.pad_sequence(test[\"source\"]\\\n",
    "                                   .map(lambda x: [1] + [char2i[c] for c in x] + [2])\\\n",
    "                                   .map(torch.tensor), batch_first = True)\n",
    "char_source_test.shape"
   ]
  },
  {
   "cell_type": "code",
   "execution_count": 50,
   "metadata": {},
   "outputs": [
    {
     "data": {
      "text/plain": [
       "torch.Size([500, 123])"
      ]
     },
     "execution_count": 50,
     "metadata": {},
     "output_type": "execute_result"
    }
   ],
   "source": [
    "char_target_test = nn.utils.rnn.pad_sequence(test[\"target\"]\\\n",
    "                                   .map(lambda x: [1] + [char2i[c] for c in x] + [2])\\\n",
    "                                   .map(torch.tensor), batch_first = True)\n",
    "char_target_test.shape"
   ]
  },
  {
   "cell_type": "code",
   "execution_count": 51,
   "metadata": {},
   "outputs": [],
   "source": [
    "torch.save(char_source_train, folder + \"nsp/char/source_train.pt\")\n",
    "torch.save(char_target_train, folder + \"nsp/char/target_train.pt\")\n",
    "torch.save(char_source_test, folder + \"nsp/char/source_test.pt\")\n",
    "torch.save(char_target_test, folder + \"nsp/char/target_test.pt\")"
   ]
  },
  {
   "cell_type": "markdown",
   "metadata": {},
   "source": [
    "## word"
   ]
  },
  {
   "cell_type": "code",
   "execution_count": 54,
   "metadata": {},
   "outputs": [
    {
     "data": {
      "text/plain": [
       "torch.Size([4499, 21])"
      ]
     },
     "execution_count": 54,
     "metadata": {},
     "output_type": "execute_result"
    }
   ],
   "source": [
    "word_target_train = nn.utils.rnn.pad_sequence(train[\"target\"].map(lambda x: x.split())\\\n",
    "                                   .map(lambda x: [1] + [word2i[c] for c in x] + [2])\\\n",
    "                                   .map(torch.tensor), batch_first = True)\n",
    "word_target_train.shape"
   ]
  },
  {
   "cell_type": "code",
   "execution_count": 55,
   "metadata": {},
   "outputs": [
    {
     "data": {
      "text/plain": [
       "torch.Size([500, 18])"
      ]
     },
     "execution_count": 55,
     "metadata": {},
     "output_type": "execute_result"
    }
   ],
   "source": [
    "word_target_test = nn.utils.rnn.pad_sequence(test[\"target\"].map(lambda x: x.split())\\\n",
    "                                   .map(lambda x: [1] + [word2i[c] for c in x] + [2])\\\n",
    "                                   .map(torch.tensor), batch_first = True)\n",
    "word_target_test.shape"
   ]
  },
  {
   "cell_type": "code",
   "execution_count": 56,
   "metadata": {},
   "outputs": [],
   "source": [
    "torch.save(word_target_train, folder + \"nsp/word/target_train.pt\")\n",
    "torch.save(word_target_test, folder + \"nsp/word/target_test.pt\")"
   ]
  },
  {
   "cell_type": "code",
   "execution_count": null,
   "metadata": {},
   "outputs": [],
   "source": []
  }
 ],
 "metadata": {
  "kernelspec": {
   "display_name": "Python 3",
   "language": "python",
   "name": "python3"
  },
  "language_info": {
   "codemirror_mode": {
    "name": "ipython",
    "version": 3
   },
   "file_extension": ".py",
   "mimetype": "text/x-python",
   "name": "python",
   "nbconvert_exporter": "python",
   "pygments_lexer": "ipython3",
   "version": "3.7.4"
  }
 },
 "nbformat": 4,
 "nbformat_minor": 4
}
